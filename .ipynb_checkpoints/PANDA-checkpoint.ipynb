{
 "cells": [
  {
   "cell_type": "code",
   "execution_count": null,
   "metadata": {},
   "outputs": [],
   "source": [
    "curated_bow = pd.read_csv('PATH TO BAG OF WORDS.csv', sep='$')"
   ]
  },
  {
   "cell_type": "code",
   "execution_count": null,
   "metadata": {},
   "outputs": [],
   "source": [
    "partitions_ = 1 \n",
    "bin_size = len(curated_bow.index)//partitions_ "
   ]
  },
  {
   "cell_type": "code",
   "execution_count": null,
   "metadata": {},
   "outputs": [],
   "source": [
    "def run_Panda():\n",
    "    bins_counter = 0\n",
    "    partition_values = pd.DataFrame()\n",
    "    j_col= pd.DataFrame()\n",
    "    k_col= pd.DataFrame()\n",
    "    \n",
    "    for j in range(len(curated_bow.columns)): \n",
    "        start_j = time.time()\n",
    "        clustered_att = curated_bow.sort_values(by = curated_bow.columns[j])\n",
    "        for k in range( len(curated_bow.columns)): \n",
    "            bins_counter = 0\n",
    "            if k != j:\n",
    "                for y in range(partitions_): \n",
    "                    \n",
    "                    parition_mean = clustered_att.iloc[bins_counter: bins_counter + bin_size, j].values.mean()\n",
    "                    partition_sd = clustered_att.iloc[bins_counter: bins_counter + bin_size, j].values.std()\n",
    "                    mean_over_sd = parition_mean/partition_sd if partition_sd else 0\n",
    "                    \n",
    "                    noise_score = pd.DataFrame([np.nan_to_num(abs(x - (mean_over_sd)))\n",
    "                                    for x in clustered_att.iloc[bins_counter:bins_counter + bin_size, k]])\n",
    "                    \n",
    "                    partition_values = pd.concat([partition_values, noise_score], axis=0)\n",
    "                    partition_values= partition_values.reset_index(drop=True) #dropping existing indices with the same name and replacing them with new, using reset index\n",
    "                    bins_counter = bins_counter + bin_size\n",
    "            else:\n",
    "                continue\n",
    "            \n",
    "            k_col= pd.concat([k_col, partition_values], axis= 1)\n",
    "            partition_values.drop(partition_values.index, inplace=True)\n",
    "                \n",
    "        \n",
    "        j_col = pd.concat([j_col, k_col], axis = 1)\n",
    "        end_j = time.time()\n",
    "        print(\"column j: \" + str(j))\n",
    "\n",
    "        print(f\"Runtime of the program for j {end_j - start_j}\")\n",
    "    return j_col"
   ]
  },
  {
   "cell_type": "code",
   "execution_count": null,
   "metadata": {},
   "outputs": [],
   "source": [
    "sss = run_Panda()\n",
    "sss['max_noise'] = sss.max(axis=1)\n",
    "s = sss.sort_values(by='max_noise', ascending = False)"
   ]
  }
 ],
 "metadata": {
  "kernelspec": {
   "display_name": "Python 3",
   "language": "python",
   "name": "python3"
  },
  "language_info": {
   "codemirror_mode": {
    "name": "ipython",
    "version": 3
   },
   "file_extension": ".py",
   "mimetype": "text/x-python",
   "name": "python",
   "nbconvert_exporter": "python",
   "pygments_lexer": "ipython3",
   "version": "3.7.2"
  }
 },
 "nbformat": 4,
 "nbformat_minor": 2
}
